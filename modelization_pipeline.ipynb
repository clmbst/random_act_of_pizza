{
 "cells": [
  {
   "cell_type": "code",
   "execution_count": 1,
   "metadata": {},
   "outputs": [],
   "source": [
    "from auxiliary_functions import *\n",
    "import pandas as pd\n",
    "import matplotlib.pyplot as plt\n",
    "import numpy as np\n",
    "\n",
    "# sklearn transformers\n",
    "from sklearn.feature_extraction.text import TfidfTransformer, TfidfVectorizer, CountVectorizer\n",
    "from sklearn.ensemble import RandomForestClassifier\n",
    "from sklearn import metrics\n",
    "from sklearn.model_selection import cross_val_score\n",
    "from sklearn.decomposition import NMF\n",
    "from sklearn.model_selection import train_test_split\n",
    "from sklearn.discriminant_analysis import LinearDiscriminantAnalysis\n",
    "\n",
    "## Pipelines utilities\n",
    "from sklearn.pipeline import Pipeline, FeatureUnion\n",
    "from sklearn.pipeline import make_pipeline , make_union\n",
    "from sklearn.compose import ColumnTransformer\n",
    "from sklearn import set_config\n",
    "set_config(display='diagram')\n",
    "\n",
    "np.random.seed(0)"
   ]
  },
  {
   "cell_type": "code",
   "execution_count": 2,
   "metadata": {},
   "outputs": [],
   "source": [
    "# Load data and train/test split\n",
    "raw_data = pd.read_pickle(\"../Data/enriched_data.pkl\")\n",
    "data_train, data_test = train_test_split(raw_data, test_size=0.20, random_state=0)\n",
    "y_train = data_train.requester_received_pizza\n",
    "y_test = data_test.requester_received_pizza"
   ]
  },
  {
   "cell_type": "code",
   "execution_count": 3,
   "metadata": {},
   "outputs": [],
   "source": [
    "# select the variables of interest for the model\n",
    "numerical_columns = ['requester_account_age_in_days_at_request', 'requester_days_since_first_post_on_raop_at_request', \n",
    "                     'requester_number_of_comments_at_request','requester_number_of_comments_in_raop_at_request', \n",
    "                     'requester_number_of_posts_at_request', 'requester_number_of_posts_on_raop_at_request', \n",
    "                     'requester_number_of_subreddits_at_request', 'requester_upvotes_minus_downvotes_at_request', \n",
    "                     'requester_upvotes_plus_downvotes_at_request', 'request_year', 'request_month', 'request_day', \n",
    "                     'request_hour', 'request_weekday', 'request_edit_aware_length', 'has_picture', 'has_link']\n",
    "text_columns = ['requester_subreddits_at_request_text', 'request_text_edit_aware', 'request_title']"
   ]
  },
  {
   "cell_type": "markdown",
   "metadata": {},
   "source": [
    "# Baseline model, numerical columns only"
   ]
  },
  {
   "cell_type": "code",
   "execution_count": 4,
   "metadata": {},
   "outputs": [],
   "source": [
    "# Construct a baseline model without the text features. \n",
    "select_numeric = ColumnTransformer([('get_numerical', PassThrough(), numerical_columns)])\n",
    "baseline_wo_text_clf = Pipeline([('select_numeric', select_numeric), \n",
    "                            ('clf', RandomForestClassifier(random_state=0))])\n",
    "baseline_wo_text_clf = baseline_wo_text_clf.fit(data_train, y_train)"
   ]
  },
  {
   "cell_type": "code",
   "execution_count": 5,
   "metadata": {},
   "outputs": [
    {
     "data": {
      "text/plain": [
       "0.6519772280101925"
      ]
     },
     "execution_count": 5,
     "metadata": {},
     "output_type": "execute_result"
    }
   ],
   "source": [
    "# Estimate the results on the test set\n",
    "pred_baseline_wo_text = baseline_wo_text_clf.predict_proba(data_test)\n",
    "fpr_baseline_wo_text, tpr_baseline_wo_text, thresholds = metrics.roc_curve(y_test, pred_baseline_wo_text[:,1])\n",
    "metrics.auc(fpr_baseline_wo_text, tpr_baseline_wo_text)"
   ]
  },
  {
   "cell_type": "markdown",
   "metadata": {},
   "source": [
    "# Text feature extaction"
   ]
  },
  {
   "cell_type": "markdown",
   "metadata": {},
   "source": [
    "## Subreddit feature extraction"
   ]
  },
  {
   "cell_type": "code",
   "execution_count": 6,
   "metadata": {},
   "outputs": [],
   "source": [
    "# Extract features from subreddits\n",
    "# Vectorize\n",
    "subreddit_vectorizer = CountVectorizer(ngram_range=(1, 1), stop_words=None, lowercase=False, \n",
    "                                       token_pattern='(?u)[^\\s]+', min_df=3) # the token_pattern option enable to split words by sapce only\n",
    "# Reduce the dimension in a suppervised way with a linear discriminant analysis. \n",
    "# Shrinkage option allows regularization of the LDA.\n",
    "lda_subreddit = LinearDiscriminantAnalysis(n_components=1, shrinkage='auto', solver='eigen') \n",
    "subreddit_pipe = make_pipeline(subreddit_vectorizer, DenseTransformer(), lda_subreddit)"
   ]
  },
  {
   "cell_type": "markdown",
   "metadata": {},
   "source": [
    "## Request title, feature extraction"
   ]
  },
  {
   "cell_type": "code",
   "execution_count": 7,
   "metadata": {},
   "outputs": [],
   "source": [
    "# Extract features from the request title. Vectorize using CountVectorize and not Tfidf \n",
    "# because the vocabulary in the title is elativly short. \n",
    "request_title_vectorizer = CountVectorizer(ngram_range=(1, 3), stop_words='english', min_df=3)\n",
    "# request_title_vectorizer = TfidfVectorizer(smooth_idf=False, ngram_range=(1, 3), stop_words='english', min_df=3)\n",
    "lda_request_title = LinearDiscriminantAnalysis(n_components=1, shrinkage='auto', solver='eigen')\n",
    "request_title_pipe = make_pipeline(request_title_vectorizer, DenseTransformer(), lda_request_title)"
   ]
  },
  {
   "cell_type": "markdown",
   "metadata": {},
   "source": [
    "## Request text feature extration"
   ]
  },
  {
   "cell_type": "code",
   "execution_count": 8,
   "metadata": {},
   "outputs": [],
   "source": [
    "# Extract 20 topics from the request text\n",
    "n_topics_text = 20\n",
    "request_text_edit_aware_vectorizer = TfidfVectorizer(smooth_idf=False, ngram_range=(1, 3), stop_words='english', min_df=3)\n",
    "nmf_request_text = NMF(init='nndsvd', n_components=n_topics_text, max_iter=500)\n",
    "request_text_pipe = make_pipeline(request_text_edit_aware_vectorizer, nmf_request_text)"
   ]
  },
  {
   "cell_type": "markdown",
   "metadata": {},
   "source": [
    "## Text only classifier"
   ]
  },
  {
   "cell_type": "code",
   "execution_count": 9,
   "metadata": {},
   "outputs": [],
   "source": [
    "all_text_pipe = ColumnTransformer(\n",
    "        [('subreddit_pipe', subreddit_pipe, 'requester_subreddits_at_request_text'),\n",
    "        ('request_text_pipe', request_text_pipe, 'request_text_edit_aware'), \n",
    "        ('request_title_pipe', request_title_pipe, 'request_title')])\n",
    "\n",
    "text_clf = RandomForestClassifier()\n",
    "text_only_clf = Pipeline([('text_feature', all_text_pipe),\n",
    "                         ('text_clf', text_clf)])\n",
    "text_only_clf = text_only_clf.fit(data_train, y_train)"
   ]
  },
  {
   "cell_type": "code",
   "execution_count": 10,
   "metadata": {},
   "outputs": [
    {
     "data": {
      "text/plain": [
       "0.6007160597361546"
      ]
     },
     "execution_count": 10,
     "metadata": {},
     "output_type": "execute_result"
    }
   ],
   "source": [
    "pred_text_only = text_only_clf.predict_proba(data_test)\n",
    "fpr_text_only, tpr_text_only, thresholds = metrics.roc_curve(y_test, pred_text_only[:,1])\n",
    "metrics.auc(fpr_text_only, tpr_text_only)"
   ]
  },
  {
   "cell_type": "markdown",
   "metadata": {},
   "source": [
    "# Final classifier with both text and numerical features"
   ]
  },
  {
   "cell_type": "code",
   "execution_count": 11,
   "metadata": {},
   "outputs": [],
   "source": [
    "features_pipe = ColumnTransformer([('all_text_pipe', all_text_pipe, text_columns), \n",
    "                                     ('numerical_pipe', PassThrough(), numerical_columns)])\n",
    "all_features_clf = Pipeline([('features_pipe', features_pipe), \n",
    "                              ('final_clf', RandomForestClassifier(random_state=0))])\n",
    "all_features_clf = all_features_clf.fit(data_train, y_train)"
   ]
  },
  {
   "cell_type": "code",
   "execution_count": 12,
   "metadata": {},
   "outputs": [
    {
     "data": {
      "text/html": [
       "<style>div.sk-top-container {color: black;background-color: white;}div.sk-toggleable {background-color: white;}label.sk-toggleable__label {cursor: pointer;display: block;width: 100%;margin-bottom: 0;padding: 0.2em 0.3em;box-sizing: border-box;text-align: center;}div.sk-toggleable__content {max-height: 0;max-width: 0;overflow: hidden;text-align: left;background-color: #f0f8ff;}div.sk-toggleable__content pre {margin: 0.2em;color: black;border-radius: 0.25em;background-color: #f0f8ff;}input.sk-toggleable__control:checked~div.sk-toggleable__content {max-height: 200px;max-width: 100%;overflow: auto;}div.sk-estimator input.sk-toggleable__control:checked~label.sk-toggleable__label {background-color: #d4ebff;}div.sk-label input.sk-toggleable__control:checked~label.sk-toggleable__label {background-color: #d4ebff;}input.sk-hidden--visually {border: 0;clip: rect(1px 1px 1px 1px);clip: rect(1px, 1px, 1px, 1px);height: 1px;margin: -1px;overflow: hidden;padding: 0;position: absolute;width: 1px;}div.sk-estimator {font-family: monospace;background-color: #f0f8ff;margin: 0.25em 0.25em;border: 1px dotted black;border-radius: 0.25em;box-sizing: border-box;}div.sk-estimator:hover {background-color: #d4ebff;}div.sk-parallel-item::after {content: \"\";width: 100%;border-bottom: 1px solid gray;flex-grow: 1;}div.sk-label:hover label.sk-toggleable__label {background-color: #d4ebff;}div.sk-serial::before {content: \"\";position: absolute;border-left: 1px solid gray;box-sizing: border-box;top: 2em;bottom: 0;left: 50%;}div.sk-serial {display: flex;flex-direction: column;align-items: center;background-color: white;}div.sk-item {z-index: 1;}div.sk-parallel {display: flex;align-items: stretch;justify-content: center;background-color: white;}div.sk-parallel-item {display: flex;flex-direction: column;position: relative;background-color: white;}div.sk-parallel-item:first-child::after {align-self: flex-end;width: 50%;}div.sk-parallel-item:last-child::after {align-self: flex-start;width: 50%;}div.sk-parallel-item:only-child::after {width: 0;}div.sk-dashed-wrapped {border: 1px dashed gray;margin: 0.2em;box-sizing: border-box;padding-bottom: 0.1em;background-color: white;position: relative;}div.sk-label label {font-family: monospace;font-weight: bold;background-color: white;display: inline-block;line-height: 1.2em;}div.sk-label-container {position: relative;z-index: 2;text-align: center;}div.sk-container {display: inline-block;position: relative;}</style><div class=\"sk-top-container\"><div class=\"sk-container\"><div class=\"sk-item sk-dashed-wrapped\"><div class=\"sk-label-container\"><div class=\"sk-label sk-toggleable\"><input class=\"sk-toggleable__control sk-hidden--visually\" id=\"911b26ca-9c64-46f8-bf03-c42244e57005\" type=\"checkbox\" ><label class=\"sk-toggleable__label\" for=\"911b26ca-9c64-46f8-bf03-c42244e57005\">Pipeline</label><div class=\"sk-toggleable__content\"><pre>Pipeline(steps=[('features_pipe',\n",
       "                 ColumnTransformer(transformers=[('all_text_pipe',\n",
       "                                                  ColumnTransformer(transformers=[('subreddit_pipe',\n",
       "                                                                                   Pipeline(steps=[('countvectorizer',\n",
       "                                                                                                    CountVectorizer(lowercase=False,\n",
       "                                                                                                                    min_df=3,\n",
       "                                                                                                                    token_pattern='(?u)[^\\\\s]+')),\n",
       "                                                                                                   ('densetransformer',\n",
       "                                                                                                    <auxiliary_functions.DenseTransformer object at 0x000001C0F9D2B7F0>),\n",
       "                                                                                                   ('lineardiscriminantanalys...\n",
       "                                                   'requester_number_of_posts_on_raop_at_request',\n",
       "                                                   'requester_number_of_subreddits_at_request',\n",
       "                                                   'requester_upvotes_minus_downvotes_at_request',\n",
       "                                                   'requester_upvotes_plus_downvotes_at_request',\n",
       "                                                   'request_year',\n",
       "                                                   'request_month',\n",
       "                                                   'request_day',\n",
       "                                                   'request_hour',\n",
       "                                                   'request_weekday',\n",
       "                                                   'request_edit_aware_length',\n",
       "                                                   'has_picture',\n",
       "                                                   'has_link'])])),\n",
       "                ('final_clf', RandomForestClassifier(random_state=0))])</pre></div></div></div><div class=\"sk-serial\"><div class=\"sk-item sk-dashed-wrapped\"><div class=\"sk-label-container\"><div class=\"sk-label sk-toggleable\"><input class=\"sk-toggleable__control sk-hidden--visually\" id=\"67534a9b-0827-4719-908a-8a333a54dd12\" type=\"checkbox\" ><label class=\"sk-toggleable__label\" for=\"67534a9b-0827-4719-908a-8a333a54dd12\">features_pipe: ColumnTransformer</label><div class=\"sk-toggleable__content\"><pre>ColumnTransformer(transformers=[('all_text_pipe',\n",
       "                                 ColumnTransformer(transformers=[('subreddit_pipe',\n",
       "                                                                  Pipeline(steps=[('countvectorizer',\n",
       "                                                                                   CountVectorizer(lowercase=False,\n",
       "                                                                                                   min_df=3,\n",
       "                                                                                                   token_pattern='(?u)[^\\\\s]+')),\n",
       "                                                                                  ('densetransformer',\n",
       "                                                                                   <auxiliary_functions.DenseTransformer object at 0x000001C0F9D2B7F0>),\n",
       "                                                                                  ('lineardiscriminantanalysis',\n",
       "                                                                                   LinearDiscriminantAnalysis(n_...\n",
       "                                  'requester_number_of_posts_at_request',\n",
       "                                  'requester_number_of_posts_on_raop_at_request',\n",
       "                                  'requester_number_of_subreddits_at_request',\n",
       "                                  'requester_upvotes_minus_downvotes_at_request',\n",
       "                                  'requester_upvotes_plus_downvotes_at_request',\n",
       "                                  'request_year', 'request_month',\n",
       "                                  'request_day', 'request_hour',\n",
       "                                  'request_weekday',\n",
       "                                  'request_edit_aware_length', 'has_picture',\n",
       "                                  'has_link'])])</pre></div></div></div><div class=\"sk-parallel\"><div class=\"sk-parallel-item\"><div class=\"sk-item\"><div class=\"sk-label-container\"><div class=\"sk-label sk-toggleable\"><input class=\"sk-toggleable__control sk-hidden--visually\" id=\"58a51aeb-a2dd-4ead-91c4-ce709b3ffeee\" type=\"checkbox\" ><label class=\"sk-toggleable__label\" for=\"58a51aeb-a2dd-4ead-91c4-ce709b3ffeee\">all_text_pipe</label><div class=\"sk-toggleable__content\"><pre>['requester_subreddits_at_request_text', 'request_text_edit_aware', 'request_title']</pre></div></div></div><div class=\"sk-serial\"><div class=\"sk-item sk-dashed-wrapped\"><div class=\"sk-parallel\"><div class=\"sk-parallel-item\"><div class=\"sk-item\"><div class=\"sk-label-container\"><div class=\"sk-label sk-toggleable\"><input class=\"sk-toggleable__control sk-hidden--visually\" id=\"9eed348e-1eab-4823-9204-cb4eceb274d9\" type=\"checkbox\" ><label class=\"sk-toggleable__label\" for=\"9eed348e-1eab-4823-9204-cb4eceb274d9\">subreddit_pipe</label><div class=\"sk-toggleable__content\"><pre>requester_subreddits_at_request_text</pre></div></div></div><div class=\"sk-serial\"><div class=\"sk-item\"><div class=\"sk-serial\"><div class=\"sk-item\"><div class=\"sk-estimator sk-toggleable\"><input class=\"sk-toggleable__control sk-hidden--visually\" id=\"480b5424-fc02-45e6-b60c-1d7c32bc61ad\" type=\"checkbox\" ><label class=\"sk-toggleable__label\" for=\"480b5424-fc02-45e6-b60c-1d7c32bc61ad\">CountVectorizer</label><div class=\"sk-toggleable__content\"><pre>CountVectorizer(lowercase=False, min_df=3, token_pattern='(?u)[^\\\\s]+')</pre></div></div></div><div class=\"sk-item\"><div class=\"sk-estimator sk-toggleable\"><input class=\"sk-toggleable__control sk-hidden--visually\" id=\"6521a13c-4f74-4c23-8840-baeb112486a2\" type=\"checkbox\" ><label class=\"sk-toggleable__label\" for=\"6521a13c-4f74-4c23-8840-baeb112486a2\">DenseTransformer</label><div class=\"sk-toggleable__content\"><pre><auxiliary_functions.DenseTransformer object at 0x000001C0F9D2B7F0></pre></div></div></div><div class=\"sk-item\"><div class=\"sk-estimator sk-toggleable\"><input class=\"sk-toggleable__control sk-hidden--visually\" id=\"0640940f-369b-4432-97e0-d69b63349a70\" type=\"checkbox\" ><label class=\"sk-toggleable__label\" for=\"0640940f-369b-4432-97e0-d69b63349a70\">LinearDiscriminantAnalysis</label><div class=\"sk-toggleable__content\"><pre>LinearDiscriminantAnalysis(n_components=1, shrinkage='auto', solver='eigen')</pre></div></div></div></div></div></div></div></div><div class=\"sk-parallel-item\"><div class=\"sk-item\"><div class=\"sk-label-container\"><div class=\"sk-label sk-toggleable\"><input class=\"sk-toggleable__control sk-hidden--visually\" id=\"d1e27eb7-2f10-42ab-a415-f4034b696a5d\" type=\"checkbox\" ><label class=\"sk-toggleable__label\" for=\"d1e27eb7-2f10-42ab-a415-f4034b696a5d\">request_text_pipe</label><div class=\"sk-toggleable__content\"><pre>request_text_edit_aware</pre></div></div></div><div class=\"sk-serial\"><div class=\"sk-item\"><div class=\"sk-serial\"><div class=\"sk-item\"><div class=\"sk-estimator sk-toggleable\"><input class=\"sk-toggleable__control sk-hidden--visually\" id=\"637d9d0c-942d-4060-b6e6-f4c67104b05a\" type=\"checkbox\" ><label class=\"sk-toggleable__label\" for=\"637d9d0c-942d-4060-b6e6-f4c67104b05a\">TfidfVectorizer</label><div class=\"sk-toggleable__content\"><pre>TfidfVectorizer(min_df=3, ngram_range=(1, 3), smooth_idf=False,\n",
       "                stop_words='english')</pre></div></div></div><div class=\"sk-item\"><div class=\"sk-estimator sk-toggleable\"><input class=\"sk-toggleable__control sk-hidden--visually\" id=\"fdb4a800-7cac-4e44-9768-bcaf647da04e\" type=\"checkbox\" ><label class=\"sk-toggleable__label\" for=\"fdb4a800-7cac-4e44-9768-bcaf647da04e\">NMF</label><div class=\"sk-toggleable__content\"><pre>NMF(init='nndsvd', max_iter=500, n_components=20)</pre></div></div></div></div></div></div></div></div><div class=\"sk-parallel-item\"><div class=\"sk-item\"><div class=\"sk-label-container\"><div class=\"sk-label sk-toggleable\"><input class=\"sk-toggleable__control sk-hidden--visually\" id=\"98d19c32-3acf-4d30-964b-45c327b6d2ea\" type=\"checkbox\" ><label class=\"sk-toggleable__label\" for=\"98d19c32-3acf-4d30-964b-45c327b6d2ea\">request_title_pipe</label><div class=\"sk-toggleable__content\"><pre>request_title</pre></div></div></div><div class=\"sk-serial\"><div class=\"sk-item\"><div class=\"sk-serial\"><div class=\"sk-item\"><div class=\"sk-estimator sk-toggleable\"><input class=\"sk-toggleable__control sk-hidden--visually\" id=\"ee94b6df-991d-4446-a6af-3b532daae45e\" type=\"checkbox\" ><label class=\"sk-toggleable__label\" for=\"ee94b6df-991d-4446-a6af-3b532daae45e\">CountVectorizer</label><div class=\"sk-toggleable__content\"><pre>CountVectorizer(min_df=3, ngram_range=(1, 3), stop_words='english')</pre></div></div></div><div class=\"sk-item\"><div class=\"sk-estimator sk-toggleable\"><input class=\"sk-toggleable__control sk-hidden--visually\" id=\"996c88f4-b548-459d-9a01-87beb0ff4d56\" type=\"checkbox\" ><label class=\"sk-toggleable__label\" for=\"996c88f4-b548-459d-9a01-87beb0ff4d56\">DenseTransformer</label><div class=\"sk-toggleable__content\"><pre><auxiliary_functions.DenseTransformer object at 0x000001C0F9D2B520></pre></div></div></div><div class=\"sk-item\"><div class=\"sk-estimator sk-toggleable\"><input class=\"sk-toggleable__control sk-hidden--visually\" id=\"7186baec-2fa5-4758-87ad-f5e57a5de3f0\" type=\"checkbox\" ><label class=\"sk-toggleable__label\" for=\"7186baec-2fa5-4758-87ad-f5e57a5de3f0\">LinearDiscriminantAnalysis</label><div class=\"sk-toggleable__content\"><pre>LinearDiscriminantAnalysis(n_components=1, shrinkage='auto', solver='eigen')</pre></div></div></div></div></div></div></div></div></div></div></div></div></div><div class=\"sk-parallel-item\"><div class=\"sk-item\"><div class=\"sk-label-container\"><div class=\"sk-label sk-toggleable\"><input class=\"sk-toggleable__control sk-hidden--visually\" id=\"5139e2f9-11a1-48e2-b65a-e73d13037573\" type=\"checkbox\" ><label class=\"sk-toggleable__label\" for=\"5139e2f9-11a1-48e2-b65a-e73d13037573\">numerical_pipe</label><div class=\"sk-toggleable__content\"><pre>['requester_account_age_in_days_at_request', 'requester_days_since_first_post_on_raop_at_request', 'requester_number_of_comments_at_request', 'requester_number_of_comments_in_raop_at_request', 'requester_number_of_posts_at_request', 'requester_number_of_posts_on_raop_at_request', 'requester_number_of_subreddits_at_request', 'requester_upvotes_minus_downvotes_at_request', 'requester_upvotes_plus_downvotes_at_request', 'request_year', 'request_month', 'request_day', 'request_hour', 'request_weekday', 'request_edit_aware_length', 'has_picture', 'has_link']</pre></div></div></div><div class=\"sk-serial\"><div class=\"sk-item\"><div class=\"sk-estimator sk-toggleable\"><input class=\"sk-toggleable__control sk-hidden--visually\" id=\"d3b3a460-cd29-46a9-b3a1-a9dd31d5ee18\" type=\"checkbox\" ><label class=\"sk-toggleable__label\" for=\"d3b3a460-cd29-46a9-b3a1-a9dd31d5ee18\">PassThrough</label><div class=\"sk-toggleable__content\"><pre>PassThrough()</pre></div></div></div></div></div></div></div></div><div class=\"sk-item\"><div class=\"sk-estimator sk-toggleable\"><input class=\"sk-toggleable__control sk-hidden--visually\" id=\"cfe80b6a-b4cf-45a6-ad09-73ef3086ca95\" type=\"checkbox\" ><label class=\"sk-toggleable__label\" for=\"cfe80b6a-b4cf-45a6-ad09-73ef3086ca95\">RandomForestClassifier</label><div class=\"sk-toggleable__content\"><pre>RandomForestClassifier(random_state=0)</pre></div></div></div></div></div></div></div>"
      ],
      "text/plain": [
       "Pipeline(steps=[('features_pipe',\n",
       "                 ColumnTransformer(transformers=[('all_text_pipe',\n",
       "                                                  ColumnTransformer(transformers=[('subreddit_pipe',\n",
       "                                                                                   Pipeline(steps=[('countvectorizer',\n",
       "                                                                                                    CountVectorizer(lowercase=False,\n",
       "                                                                                                                    min_df=3,\n",
       "                                                                                                                    token_pattern='(?u)[^\\\\s]+')),\n",
       "                                                                                                   ('densetransformer',\n",
       "                                                                                                    <auxiliary_functions.DenseTransformer object at 0x000001C0F9D2B7F0>),\n",
       "                                                                                                   ('lineardiscriminantanalys...\n",
       "                                                   'requester_number_of_posts_on_raop_at_request',\n",
       "                                                   'requester_number_of_subreddits_at_request',\n",
       "                                                   'requester_upvotes_minus_downvotes_at_request',\n",
       "                                                   'requester_upvotes_plus_downvotes_at_request',\n",
       "                                                   'request_year',\n",
       "                                                   'request_month',\n",
       "                                                   'request_day',\n",
       "                                                   'request_hour',\n",
       "                                                   'request_weekday',\n",
       "                                                   'request_edit_aware_length',\n",
       "                                                   'has_picture',\n",
       "                                                   'has_link'])])),\n",
       "                ('final_clf', RandomForestClassifier(random_state=0))])"
      ]
     },
     "execution_count": 12,
     "metadata": {},
     "output_type": "execute_result"
    }
   ],
   "source": [
    "# The final model pipeline\n",
    "all_features_clf"
   ]
  },
  {
   "cell_type": "code",
   "execution_count": 13,
   "metadata": {},
   "outputs": [
    {
     "data": {
      "text/plain": [
       "0.6832967777311874"
      ]
     },
     "execution_count": 13,
     "metadata": {},
     "output_type": "execute_result"
    }
   ],
   "source": [
    "pred_all_features = all_features_clf.predict_proba(data_test)\n",
    "fpr_all_features, tpr_all_features, thresholds = metrics.roc_curve(y_test, pred_all_features[:,1])\n",
    "metrics.auc(fpr_all_features, tpr_all_features)"
   ]
  },
  {
   "cell_type": "markdown",
   "metadata": {},
   "source": [
    "# Compare results"
   ]
  },
  {
   "cell_type": "code",
   "execution_count": 14,
   "metadata": {},
   "outputs": [],
   "source": [
    "auc_all_features = cross_val_score(all_features_clf, data_train, y_train, cv=5, scoring='roc_auc')\n",
    "auc_baseline_wo_text = cross_val_score(baseline_wo_text_clf, data_train, y_train, cv=5, scoring='roc_auc')\n",
    "auc_text_only = cross_val_score(text_only_clf, data_train, y_train, cv=5, scoring='roc_auc')"
   ]
  },
  {
   "cell_type": "code",
   "execution_count": 15,
   "metadata": {},
   "outputs": [
    {
     "data": {
      "image/png": "[encoded data removed]",
      "text/plain": [
       "<Figure size 432x288 with 1 Axes>"
      ]
     },
     "metadata": {
      "needs_background": "light"
     },
     "output_type": "display_data"
    }
   ],
   "source": [
    "plt.boxplot([auc_baseline_wo_text, auc_text_only, auc_all_features])\n",
    "plt.grid()\n",
    "plt.xticks([1,2,3], labels=['Baseline without text features', 'text only', 'all features'])\n",
    "plt.title('AUC on train set with 5-folds cross validation for the different models')\n",
    "plt.show()"
   ]
  },
  {
   "cell_type": "code",
   "execution_count": 16,
   "metadata": {},
   "outputs": [
    {
     "name": "stdout",
     "output_type": "stream",
     "text": [
      "0.6597099437188924\n",
      "0.6568720345714991\n"
     ]
    }
   ],
   "source": [
    "print(auc_all_features.mean())\n",
    "print(auc_baseline_wo_text.mean())"
   ]
  },
  {
   "cell_type": "code",
   "execution_count": 17,
   "metadata": {},
   "outputs": [
    {
     "data": {
      "image/png": "[encoded data removed]",
      "text/plain": [
       "<Figure size 432x288 with 1 Axes>"
      ]
     },
     "metadata": {
      "needs_background": "light"
     },
     "output_type": "display_data"
    }
   ],
   "source": [
    "plt.plot(fpr_baseline_wo_text, tpr_baseline_wo_text)\n",
    "plt.plot(fpr_text_only, tpr_text_only)\n",
    "plt.plot(fpr_all_features, tpr_all_features)\n",
    "plt.legend(['Baseline without text features', 'text only', 'all features'])\n",
    "plt.title('Roc curve for the different models')\n",
    "plt.xlabel('fpr')\n",
    "plt.ylabel('tpr')\n",
    "plt.grid()"
   ]
  },
  {
   "cell_type": "markdown",
   "metadata": {},
   "source": [
    "# Final model"
   ]
  },
  {
   "cell_type": "markdown",
   "metadata": {},
   "source": [
    "For the final model, we will choose the model with all features even though it gives slightly less stable results. \n",
    "We want to limit the false positive rate to 10%. We choose the decision threshold accordingly. "
   ]
  },
  {
   "cell_type": "code",
   "execution_count": 18,
   "metadata": {},
   "outputs": [
    {
     "name": "stdout",
     "output_type": "stream",
     "text": [
      "0.10132890365448505 0.2621359223300971 0.42\n"
     ]
    }
   ],
   "source": [
    "print(fpr_all_features[20], tpr_all_features[20], thresholds[20])\n",
    "final_threshold = thresholds[20]"
   ]
  },
  {
   "cell_type": "code",
   "execution_count": 19,
   "metadata": {},
   "outputs": [
    {
     "data": {
      "text/plain": [
       "array([[541,  61],\n",
       "       [152,  54]], dtype=int64)"
      ]
     },
     "execution_count": 19,
     "metadata": {},
     "output_type": "execute_result"
    }
   ],
   "source": [
    "y_pred = all_features_clf.predict_proba(data_test) >= final_threshold\n",
    "metrics.confusion_matrix(y_test, y_pred[:,1])"
   ]
  },
  {
   "cell_type": "markdown",
   "metadata": {},
   "source": [
    "**Note:** The decision threshold should not have been choosen on the test set but on the training set through a clean cross-validation procedure. We didn't don't it due to a lack of time. "
   ]
  },
  {
   "cell_type": "markdown",
   "metadata": {},
   "source": [
    "# Conclusion and way forward"
   ]
  },
  {
   "cell_type": "markdown",
   "metadata": {},
   "source": [
    "The first feature selected were well chosen and brought meaningfull information. Thus adding pure text features didn't improve the model significantly. Here is some ideas on how to to better : \n",
    "* A better pre-processing and vectorization of the text learned on universal database could make a better job than our tf-idf vectorizer learned on our small dataset. (https://radimrehurek.com/gensim/models/word2vec.html). \n",
    "* One could thing of using Recurrent neural network (LSTM for exemple) to process the text data. "
   ]
  }
 ],
 "metadata": {
  "kernelspec": {
   "display_name": "Python 3",
   "language": "python",
   "name": "python3"
  },
  "language_info": {
   "codemirror_mode": {
    "name": "ipython",
    "version": 3
   },
   "file_extension": ".py",
   "mimetype": "text/x-python",
   "name": "python",
   "nbconvert_exporter": "python",
   "pygments_lexer": "ipython3",
   "version": "3.8.3"
  }
 },
 "nbformat": 4,
 "nbformat_minor": 4
}
